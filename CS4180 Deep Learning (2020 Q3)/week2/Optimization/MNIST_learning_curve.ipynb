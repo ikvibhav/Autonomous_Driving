{
 "cells": [
  {
   "cell_type": "code",
   "execution_count": 1,
   "metadata": {},
   "outputs": [],
   "source": [
    "%matplotlib inline"
   ]
  },
  {
   "cell_type": "markdown",
   "metadata": {},
   "source": [
    "\n",
    "Training a Classifier\n",
    "=====================\n",
    "\n",
    "This is it. You have seen how to define neural networks, compute loss and make\n",
    "updates to the weights of the network.\n",
    "\n",
    "Now you might be thinking,\n",
    "\n",
    "What about data?\n",
    "----------------\n",
    "\n",
    "Generally, when you have to deal with image, text, audio or video data,\n",
    "you can use standard python packages that load data into a numpy array.\n",
    "Then you can convert this array into a ``torch.*Tensor``.\n",
    "\n",
    "-  For images, packages such as Pillow, OpenCV are useful\n",
    "-  For audio, packages such as scipy and librosa\n",
    "-  For text, either raw Python or Cython based loading, or NLTK and\n",
    "   SpaCy are useful\n",
    "\n",
    "Specifically for vision, we have created a package called\n",
    "``torchvision``, that has data loaders for common datasets such as\n",
    "Imagenet, CIFAR10, MNIST, etc. and data transformers for images, viz.,\n",
    "``torchvision.datasets`` and ``torch.utils.data.DataLoader``.\n",
    "\n",
    "This provides a huge convenience and avoids writing boilerplate code.\n",
    "\n",
    "For this tutorial, we will use the MNIST dataset.\n",
    "It has the classes of hand written digits:. The images in MNIST are of\n",
    "size 1x28x28 (In pytorch we put channel dimension in the first place.), i.e. gray level images of 28x28 pixels in size.\n",
    "\n",
    "\n",
    "Training an image classifier\n",
    "----------------------------\n",
    "\n",
    "We will do the following steps in order:\n",
    "\n",
    "1. Load and normalizing the MNIST training and test datasets using\n",
    "   ``torchvision``\n",
    "2. Define a Convolutional Neural Network\n",
    "3. Define a loss function\n",
    "4. Train the network on the training data\n",
    "5. Test the network on the test data\n",
    "\n",
    "\n",
    "\n"
   ]
  },
  {
   "cell_type": "markdown",
   "metadata": {},
   "source": [
    "## 1. Loading and normalizing MNIST\n",
    "\n",
    "\n",
    "Using ``torchvision``, it’s extremely easy to load MNIST."
   ]
  },
  {
   "cell_type": "code",
   "execution_count": 2,
   "metadata": {},
   "outputs": [],
   "source": [
    "import torch\n",
    "import torchvision\n",
    "import torchvision.transforms as transforms"
   ]
  },
  {
   "cell_type": "markdown",
   "metadata": {},
   "source": [
    "We need to normalize images before starting. Normally intensity values of MNIST dataset are in [0,255]. The output of torchvision datasets are PILImage images of range [0, 1]. So we do not need to normalize them here. However it is always good to check the values before starting the training."
   ]
  },
  {
   "cell_type": "code",
   "execution_count": 3,
   "metadata": {},
   "outputs": [],
   "source": [
    "transform = transforms.Compose(\n",
    "    [transforms.ToTensor()])#,\n",
    "trainset = torchvision.datasets.MNIST(root='./data', train=True,\n",
    "                                        download=True, transform=transform)\n",
    "trainloader = torch.utils.data.DataLoader(trainset, batch_size=4,\n",
    "                                          shuffle=True, num_workers=1)\n",
    "\n",
    "testset = torchvision.datasets.MNIST(root='./data', train=False,\n",
    "                                       download=True, transform=transform)\n",
    "testloader = torch.utils.data.DataLoader(testset, batch_size=4,\n",
    "                                         shuffle=False, num_workers=1)\n",
    "\n",
    "classes = ('0', '1', '2', '3',\n",
    "           '4', '5', '6', '7', '8', '9')"
   ]
  },
  {
   "cell_type": "markdown",
   "metadata": {},
   "source": [
    "Let us see some of the training images."
   ]
  },
  {
   "cell_type": "code",
   "execution_count": 4,
   "metadata": {},
   "outputs": [
    {
     "data": {
      "image/png": "[encoded data removed]",
      "text/plain": [
       "<matplotlib.figure.Figure at 0x7ff6d93095f8>"
      ]
     },
     "metadata": {},
     "output_type": "display_data"
    },
    {
     "name": "stdout",
     "output_type": "stream",
     "text": [
      "    1     4     7     7\n"
     ]
    }
   ],
   "source": [
    "import matplotlib.pyplot as plt\n",
    "import numpy as np\n",
    "\n",
    "# functions to show an image\n",
    "\n",
    "\n",
    "def imshow(img):\n",
    "    npimg = img.numpy()\n",
    "    plt.imshow(np.transpose(npimg, (1, 2, 0)))\n",
    "    plt.show()\n",
    "\n",
    "\n",
    "# get some random training images\n",
    "dataiter = iter(trainloader)\n",
    "images, labels = dataiter.next()\n",
    "\n",
    "# show images\n",
    "imshow(torchvision.utils.make_grid(images))\n",
    "# print labels\n",
    "print(' '.join('%5s' % classes[labels[j]] for j in range(4)))"
   ]
  },
  {
   "cell_type": "markdown",
   "metadata": {},
   "source": [
    " if you want, you can play with images by checking values shape etc."
   ]
  },
  {
   "cell_type": "code",
   "execution_count": 5,
   "metadata": {},
   "outputs": [],
   "source": [
    "#images.shape"
   ]
  },
  {
   "cell_type": "markdown",
   "metadata": {},
   "source": [
    "## 2. Define a Convolutional Neural Network\n",
    "\n",
    "\n",
    "Please first check the [pytorch.nn](https://pytorch.org/docs/stable/nn.html) document in order to understand methods and how to use them.\n",
    "\n"
   ]
  },
  {
   "cell_type": "code",
   "execution_count": 6,
   "metadata": {},
   "outputs": [],
   "source": [
    "import torch.nn as nn\n",
    "import torch.nn.functional as F\n",
    "\n",
    "use_gpu = torch.cuda.is_available()\n",
    "\n",
    "class Net(nn.Module):\n",
    "    def __init__(self):\n",
    "        super(Net, self).__init__()\n",
    "        self.conv1 = nn.Conv2d(1, 6, 3, padding=1) \n",
    "        self.pool = nn.MaxPool2d(2, 2)\n",
    "        self.conv2 = nn.Conv2d(6, 16, 3, padding=1)\n",
    "        self.pool = nn.MaxPool2d(2, 2)\n",
    "        self.fc1 = nn.Linear(16 * 7 * 7, 120)\n",
    "        self.fc2 = nn.Linear(120, 84)\n",
    "        self.fc3 = nn.Linear(84, 10)\n",
    "\n",
    "    def forward(self, x):\n",
    "        x = self.pool(F.relu(self.conv1(x)))\n",
    "        x = self.pool(F.relu(self.conv2(x)))\n",
    "        x = x.view(-1, 16 * 7 * 7)\n",
    "        x = F.relu(self.fc1(x))\n",
    "        x = F.relu(self.fc2(x))\n",
    "        x = self.fc3(x)\n",
    "        return x\n",
    "\n",
    "\n",
    "net = Net()\n",
    "\n",
    "if use_gpu:\n",
    "    net = net.cuda()"
   ]
  },
  {
   "cell_type": "markdown",
   "metadata": {},
   "source": [
    "## 3. Define a Loss function and optimizer\n",
    "\n",
    "Let's use a Classification Cross-Entropy loss and SGD with momentum. (Please check [pytorch.nn](https://pytorch.org/docs/stable/nn.html) document for them)."
   ]
  },
  {
   "cell_type": "code",
   "execution_count": 7,
   "metadata": {},
   "outputs": [],
   "source": [
    "import torch.optim as optim\n",
    "criterion = nn.CrossEntropyLoss()\n",
    "optimizer = optim.SGD(net.parameters(), lr=0.001, momentum=0.9)"
   ]
  },
  {
   "cell_type": "markdown",
   "metadata": {},
   "source": [
    "## 4. Train the network\n",
    "This is when things start to get interesting. We simply have to loop over our data iterator, and feed the inputs to the network and optimize. If you want, also you can check the training time by using  ``time`` module in python."
   ]
  },
  {
   "cell_type": "code",
   "execution_count": 8,
   "metadata": {},
   "outputs": [],
   "source": [
    "from tensorboardX import SummaryWriter\n",
    "writer = SummaryWriter('runs')"
   ]
  },
  {
   "cell_type": "code",
   "execution_count": 9,
   "metadata": {
    "scrolled": false
   },
   "outputs": [
    {
     "name": "stdout",
     "output_type": "stream",
     "text": [
      "[1,   100] loss: 2.307\n",
      "[1,   200] loss: 2.296\n",
      "[1,   300] loss: 2.298\n",
      "[1,   400] loss: 2.291\n",
      "[1,   500] loss: 2.289\n",
      "[1,   600] loss: 2.286\n",
      "[1,   700] loss: 2.266\n",
      "[1,   800] loss: 2.252\n",
      "[1,   900] loss: 2.208\n",
      "[1,  1000] loss: 2.036\n",
      "[1,  1100] loss: 1.626\n",
      "[1,  1200] loss: 1.117\n",
      "[1,  1300] loss: 0.946\n",
      "[1,  1400] loss: 0.901\n",
      "[1,  1500] loss: 0.631\n",
      "[1,  1600] loss: 0.627\n",
      "[1,  1700] loss: 0.539\n",
      "[1,  1800] loss: 0.529\n",
      "[1,  1900] loss: 0.443\n",
      "[1,  2000] loss: 0.524\n",
      "[1,  2100] loss: 0.534\n",
      "[1,  2200] loss: 0.396\n",
      "[1,  2300] loss: 0.429\n",
      "[1,  2400] loss: 0.417\n",
      "[1,  2500] loss: 0.311\n",
      "[1,  2600] loss: 0.320\n",
      "[1,  2700] loss: 0.381\n",
      "[1,  2800] loss: 0.349\n",
      "[1,  2900] loss: 0.239\n",
      "[1,  3000] loss: 0.402\n",
      "[1,  3100] loss: 0.347\n",
      "[1,  3200] loss: 0.292\n",
      "[1,  3300] loss: 0.365\n",
      "[1,  3400] loss: 0.241\n",
      "[1,  3500] loss: 0.250\n",
      "[1,  3600] loss: 0.210\n",
      "[1,  3700] loss: 0.199\n",
      "[1,  3800] loss: 0.253\n",
      "[1,  3900] loss: 0.240\n",
      "[1,  4000] loss: 0.274\n",
      "[1,  4100] loss: 0.170\n",
      "[1,  4200] loss: 0.205\n",
      "[1,  4300] loss: 0.244\n",
      "[1,  4400] loss: 0.239\n",
      "[1,  4500] loss: 0.203\n",
      "[1,  4600] loss: 0.148\n",
      "[1,  4700] loss: 0.187\n",
      "[1,  4800] loss: 0.239\n",
      "[1,  4900] loss: 0.195\n",
      "[1,  5000] loss: 0.249\n",
      "[1,  5100] loss: 0.264\n",
      "[1,  5200] loss: 0.196\n",
      "[1,  5300] loss: 0.213\n",
      "[1,  5400] loss: 0.187\n",
      "[1,  5500] loss: 0.155\n",
      "[1,  5600] loss: 0.245\n",
      "[1,  5700] loss: 0.144\n",
      "[1,  5800] loss: 0.148\n",
      "[1,  5900] loss: 0.204\n",
      "[1,  6000] loss: 0.207\n",
      "[1,  6100] loss: 0.173\n",
      "[1,  6200] loss: 0.163\n",
      "[1,  6300] loss: 0.253\n",
      "[1,  6400] loss: 0.146\n",
      "[1,  6500] loss: 0.171\n",
      "[1,  6600] loss: 0.164\n",
      "[1,  6700] loss: 0.143\n",
      "[1,  6800] loss: 0.170\n",
      "[1,  6900] loss: 0.172\n",
      "[1,  7000] loss: 0.152\n",
      "[1,  7100] loss: 0.158\n",
      "[1,  7200] loss: 0.127\n",
      "[1,  7300] loss: 0.129\n",
      "[1,  7400] loss: 0.150\n",
      "[1,  7500] loss: 0.192\n",
      "[1,  7600] loss: 0.188\n",
      "[1,  7700] loss: 0.143\n",
      "[1,  7800] loss: 0.097\n",
      "[1,  7900] loss: 0.133\n",
      "[1,  8000] loss: 0.109\n",
      "[1,  8100] loss: 0.133\n",
      "[1,  8200] loss: 0.109\n",
      "[1,  8300] loss: 0.112\n",
      "[1,  8400] loss: 0.164\n",
      "[1,  8500] loss: 0.178\n",
      "[1,  8600] loss: 0.165\n",
      "[1,  8700] loss: 0.095\n",
      "[1,  8800] loss: 0.149\n",
      "[1,  8900] loss: 0.152\n",
      "[1,  9000] loss: 0.115\n",
      "[1,  9100] loss: 0.121\n",
      "[1,  9200] loss: 0.131\n",
      "[1,  9300] loss: 0.108\n",
      "[1,  9400] loss: 0.096\n",
      "[1,  9500] loss: 0.139\n",
      "[1,  9600] loss: 0.057\n",
      "[1,  9700] loss: 0.182\n",
      "[1,  9800] loss: 0.094\n",
      "[1,  9900] loss: 0.121\n",
      "[1, 10000] loss: 0.110\n",
      "[1, 10100] loss: 0.147\n",
      "[1, 10200] loss: 0.119\n",
      "[1, 10300] loss: 0.133\n",
      "[1, 10400] loss: 0.136\n",
      "[1, 10500] loss: 0.165\n",
      "[1, 10600] loss: 0.157\n",
      "[1, 10700] loss: 0.140\n",
      "[1, 10800] loss: 0.121\n",
      "[1, 10900] loss: 0.108\n",
      "[1, 11000] loss: 0.187\n",
      "[1, 11100] loss: 0.086\n",
      "[1, 11200] loss: 0.178\n",
      "[1, 11300] loss: 0.097\n",
      "[1, 11400] loss: 0.182\n",
      "[1, 11500] loss: 0.132\n",
      "[1, 11600] loss: 0.115\n",
      "[1, 11700] loss: 0.051\n",
      "[1, 11800] loss: 0.150\n",
      "[1, 11900] loss: 0.135\n",
      "[1, 12000] loss: 0.125\n",
      "[1, 12100] loss: 0.125\n",
      "[1, 12200] loss: 0.186\n",
      "[1, 12300] loss: 0.067\n",
      "[1, 12400] loss: 0.138\n",
      "[1, 12500] loss: 0.111\n",
      "[1, 12600] loss: 0.138\n",
      "[1, 12700] loss: 0.129\n",
      "[1, 12800] loss: 0.104\n",
      "[1, 12900] loss: 0.180\n",
      "[1, 13000] loss: 0.173\n",
      "[1, 13100] loss: 0.126\n",
      "[1, 13200] loss: 0.103\n",
      "[1, 13300] loss: 0.131\n",
      "[1, 13400] loss: 0.085\n",
      "[1, 13500] loss: 0.102\n",
      "[1, 13600] loss: 0.086\n",
      "[1, 13700] loss: 0.139\n",
      "[1, 13800] loss: 0.123\n",
      "[1, 13900] loss: 0.097\n",
      "[1, 14000] loss: 0.053\n",
      "[1, 14100] loss: 0.130\n",
      "[1, 14200] loss: 0.100\n",
      "[1, 14300] loss: 0.074\n",
      "[1, 14400] loss: 0.110\n",
      "[1, 14500] loss: 0.155\n",
      "[1, 14600] loss: 0.170\n",
      "[1, 14700] loss: 0.099\n",
      "[1, 14800] loss: 0.114\n",
      "[1, 14900] loss: 0.134\n",
      "[1, 15000] loss: 0.095\n",
      "[2,   100] loss: 0.064\n",
      "[2,   200] loss: 0.089\n",
      "[2,   300] loss: 0.068\n",
      "[2,   400] loss: 0.101\n",
      "[2,   500] loss: 0.072\n",
      "[2,   600] loss: 0.117\n",
      "[2,   700] loss: 0.065\n",
      "[2,   800] loss: 0.076\n",
      "[2,   900] loss: 0.108\n",
      "[2,  1000] loss: 0.152\n",
      "[2,  1100] loss: 0.110\n",
      "[2,  1200] loss: 0.076\n",
      "[2,  1300] loss: 0.119\n",
      "[2,  1400] loss: 0.092\n",
      "[2,  1500] loss: 0.115\n",
      "[2,  1600] loss: 0.118\n",
      "[2,  1700] loss: 0.046\n",
      "[2,  1800] loss: 0.065\n",
      "[2,  1900] loss: 0.083\n",
      "[2,  2000] loss: 0.142\n",
      "[2,  2100] loss: 0.165\n",
      "[2,  2200] loss: 0.070\n",
      "[2,  2300] loss: 0.081\n",
      "[2,  2400] loss: 0.095\n",
      "[2,  2500] loss: 0.095\n",
      "[2,  2600] loss: 0.102\n",
      "[2,  2700] loss: 0.066\n",
      "[2,  2800] loss: 0.051\n",
      "[2,  2900] loss: 0.102\n",
      "[2,  3000] loss: 0.063\n",
      "[2,  3100] loss: 0.081\n",
      "[2,  3200] loss: 0.069\n",
      "[2,  3300] loss: 0.118\n",
      "[2,  3400] loss: 0.095\n",
      "[2,  3500] loss: 0.114\n",
      "[2,  3600] loss: 0.083\n",
      "[2,  3700] loss: 0.117\n",
      "[2,  3800] loss: 0.101\n",
      "[2,  3900] loss: 0.065\n",
      "[2,  4000] loss: 0.069\n",
      "[2,  4100] loss: 0.078\n",
      "[2,  4200] loss: 0.077\n",
      "[2,  4300] loss: 0.108\n",
      "[2,  4400] loss: 0.142\n",
      "[2,  4500] loss: 0.057\n",
      "[2,  4600] loss: 0.104\n",
      "[2,  4700] loss: 0.168\n",
      "[2,  4800] loss: 0.083\n",
      "[2,  4900] loss: 0.087\n",
      "[2,  5000] loss: 0.080\n",
      "[2,  5100] loss: 0.099\n",
      "[2,  5200] loss: 0.053\n",
      "[2,  5300] loss: 0.041\n",
      "[2,  5400] loss: 0.088\n",
      "[2,  5500] loss: 0.130\n",
      "[2,  5600] loss: 0.059\n",
      "[2,  5700] loss: 0.062\n",
      "[2,  5800] loss: 0.086\n",
      "[2,  5900] loss: 0.058\n",
      "[2,  6000] loss: 0.087\n",
      "[2,  6100] loss: 0.068\n",
      "[2,  6200] loss: 0.027\n",
      "[2,  6300] loss: 0.074\n",
      "[2,  6400] loss: 0.059\n",
      "[2,  6500] loss: 0.078\n",
      "[2,  6600] loss: 0.058\n",
      "[2,  6700] loss: 0.041\n",
      "[2,  6800] loss: 0.099\n",
      "[2,  6900] loss: 0.098\n",
      "[2,  7000] loss: 0.078\n",
      "[2,  7100] loss: 0.028\n",
      "[2,  7200] loss: 0.042\n",
      "[2,  7300] loss: 0.048\n",
      "[2,  7400] loss: 0.118\n",
      "[2,  7500] loss: 0.147\n",
      "[2,  7600] loss: 0.077\n",
      "[2,  7700] loss: 0.091\n",
      "[2,  7800] loss: 0.046\n",
      "[2,  7900] loss: 0.040\n",
      "[2,  8000] loss: 0.064\n",
      "[2,  8100] loss: 0.080\n",
      "[2,  8200] loss: 0.111\n",
      "[2,  8300] loss: 0.072\n",
      "[2,  8400] loss: 0.083\n",
      "[2,  8500] loss: 0.099\n",
      "[2,  8600] loss: 0.060\n",
      "[2,  8700] loss: 0.070\n",
      "[2,  8800] loss: 0.086\n",
      "[2,  8900] loss: 0.067\n",
      "[2,  9000] loss: 0.063\n",
      "[2,  9100] loss: 0.090\n",
      "[2,  9200] loss: 0.074\n",
      "[2,  9300] loss: 0.069\n",
      "[2,  9400] loss: 0.077\n",
      "[2,  9500] loss: 0.099\n",
      "[2,  9600] loss: 0.081\n",
      "[2,  9700] loss: 0.078\n",
      "[2,  9800] loss: 0.115\n",
      "[2,  9900] loss: 0.089\n",
      "[2, 10000] loss: 0.050\n",
      "[2, 10100] loss: 0.065\n",
      "[2, 10200] loss: 0.059\n",
      "[2, 10300] loss: 0.128\n",
      "[2, 10400] loss: 0.074\n",
      "[2, 10500] loss: 0.040\n",
      "[2, 10600] loss: 0.041\n",
      "[2, 10700] loss: 0.090\n",
      "[2, 10800] loss: 0.047\n",
      "[2, 10900] loss: 0.060\n",
      "[2, 11000] loss: 0.086\n",
      "[2, 11100] loss: 0.070\n",
      "[2, 11200] loss: 0.062\n",
      "[2, 11300] loss: 0.082\n",
      "[2, 11400] loss: 0.077\n",
      "[2, 11500] loss: 0.049\n",
      "[2, 11600] loss: 0.081\n",
      "[2, 11700] loss: 0.100\n",
      "[2, 11800] loss: 0.092\n",
      "[2, 11900] loss: 0.047\n",
      "[2, 12000] loss: 0.077\n",
      "[2, 12100] loss: 0.074\n",
      "[2, 12200] loss: 0.099\n",
      "[2, 12300] loss: 0.063\n",
      "[2, 12400] loss: 0.060\n",
      "[2, 12500] loss: 0.047\n",
      "[2, 12600] loss: 0.104\n",
      "[2, 12700] loss: 0.047\n",
      "[2, 12800] loss: 0.094\n",
      "[2, 12900] loss: 0.100\n",
      "[2, 13000] loss: 0.075\n",
      "[2, 13100] loss: 0.064\n",
      "[2, 13200] loss: 0.071\n",
      "[2, 13300] loss: 0.114\n",
      "[2, 13400] loss: 0.102\n",
      "[2, 13500] loss: 0.047\n",
      "[2, 13600] loss: 0.058\n",
      "[2, 13700] loss: 0.093\n",
      "[2, 13800] loss: 0.096\n",
      "[2, 13900] loss: 0.101\n",
      "[2, 14000] loss: 0.047\n",
      "[2, 14100] loss: 0.063\n",
      "[2, 14200] loss: 0.076\n",
      "[2, 14300] loss: 0.059\n",
      "[2, 14400] loss: 0.112\n",
      "[2, 14500] loss: 0.040\n",
      "[2, 14600] loss: 0.085\n",
      "[2, 14700] loss: 0.065\n",
      "[2, 14800] loss: 0.087\n",
      "[2, 14900] loss: 0.043\n",
      "[2, 15000] loss: 0.079\n",
      "Finished Training\n"
     ]
    }
   ],
   "source": [
    "for epoch in range(2):  # loop over the dataset multiple times\n",
    "\n",
    "    running_loss = 0.0\n",
    "    for i, data in enumerate(trainloader, 0):\n",
    "        # get the inputs\n",
    "        inputs, labels = data\n",
    "        if use_gpu:\n",
    "            inputs = inputs.cuda()\n",
    "            labels = labels.cuda()\n",
    "        # zero the parameter gradients\n",
    "        optimizer.zero_grad()\n",
    "\n",
    "        # forward + backward + optimize\n",
    "        outputs = net(inputs)\n",
    "        loss = criterion(outputs, labels)\n",
    "        loss.backward()\n",
    "        optimizer.step()\n",
    "\n",
    "        # print statistics\n",
    "        running_loss += loss.item()\n",
    "        if i % 100 == 99:    # print every 100 mini-batches\n",
    "            print('[%d, %5d] loss: %.3f' %\n",
    "                  (epoch + 1, i + 1, running_loss / 100))\n",
    "            running_loss = 0.0\n",
    "            niter = epoch * len(trainloader) + i\n",
    "            writer.add_scalar('Train/loss',loss.item(),niter)\n",
    "print('Finished Training')\n",
    "writer.export_scalars_to_json('./all_Scalars.json')\n",
    "writer.close()"
   ]
  },
  {
   "cell_type": "markdown",
   "metadata": {},
   "source": [
    "## 5. Test the network on the test data \n",
    "We have trained the network for 2 passes over the training dataset. But we need to check if the network has learnt anything at all.\n",
    "\n",
    "We will check this by predicting the class label that the neural network outputs, and checking it against the ground-truth. If the prediction is correct, we add the sample to the list of correct predictions.\n",
    "\n",
    "Okay, first step. Let us display an image from the test set to get familiar."
   ]
  },
  {
   "cell_type": "code",
   "execution_count": 10,
   "metadata": {},
   "outputs": [
    {
     "data": {
      "image/png": "[encoded data removed]",
      "text/plain": [
       "<matplotlib.figure.Figure at 0x7ff6d447a780>"
      ]
     },
     "metadata": {},
     "output_type": "display_data"
    },
    {
     "name": "stdout",
     "output_type": "stream",
     "text": [
      "GroundTruth:      7     2     1     0\n"
     ]
    }
   ],
   "source": [
    "dataiter = iter(testloader)\n",
    "images, labels = dataiter.next()\n",
    "\n",
    "# print images\n",
    "imshow(torchvision.utils.make_grid(images))\n",
    "print('GroundTruth: ', ' '.join('%5s' % classes[labels[j]] for j in range(4)))"
   ]
  },
  {
   "cell_type": "markdown",
   "metadata": {},
   "source": [
    "Okay, now let us see what the neural network thinks these examples above are:"
   ]
  },
  {
   "cell_type": "code",
   "execution_count": 11,
   "metadata": {},
   "outputs": [],
   "source": [
    "outputs = net(images)"
   ]
  },
  {
   "cell_type": "markdown",
   "metadata": {},
   "source": [
    "The outputs are energies for the 10 classes. The higher the energy for a class, the more the network thinks that the image is of the particular class. So, let's get the index of the highest energy:"
   ]
  },
  {
   "cell_type": "code",
   "execution_count": 12,
   "metadata": {},
   "outputs": [
    {
     "name": "stdout",
     "output_type": "stream",
     "text": [
      "Predicted:      7     2     1     0\n"
     ]
    }
   ],
   "source": [
    "_, predicted = torch.max(outputs, 1)\n",
    "\n",
    "print('Predicted: ', ' '.join('%5s' % classes[predicted[j]]\n",
    "                              for j in range(4)))"
   ]
  },
  {
   "cell_type": "markdown",
   "metadata": {},
   "source": [
    "The results seem pretty good.\n",
    "\n",
    "Let us look at how the network performs on the whole dataset."
   ]
  },
  {
   "cell_type": "code",
   "execution_count": 13,
   "metadata": {},
   "outputs": [
    {
     "name": "stdout",
     "output_type": "stream",
     "text": [
      "Accuracy of the network on the 10000 test images: 98 %\n"
     ]
    }
   ],
   "source": [
    "correct = 0\n",
    "total = 0\n",
    "with torch.no_grad():\n",
    "    for data in testloader:\n",
    "        images, labels = data\n",
    "        outputs = net(images)\n",
    "        _, predicted = torch.max(outputs.data, 1)\n",
    "        total += labels.size(0)\n",
    "        correct += (predicted == labels).sum().item()\n",
    "\n",
    "print('Accuracy of the network on the 10000 test images: %d %%' % (\n",
    "    100 * correct / total))"
   ]
  },
  {
   "cell_type": "markdown",
   "metadata": {},
   "source": [
    "That looks waaay better than chance, which is 10% accuracy (randomly picking a class out of 10 classes). Seems like the network learnt something.\n",
    "\n",
    "Hmmm, what are the classes that performed well, and the classes that did not perform well:"
   ]
  },
  {
   "cell_type": "code",
   "execution_count": 14,
   "metadata": {},
   "outputs": [
    {
     "name": "stdout",
     "output_type": "stream",
     "text": [
      "Accuracy of     0 : 99 %\n",
      "Accuracy of     1 : 99 %\n",
      "Accuracy of     2 : 99 %\n",
      "Accuracy of     3 : 98 %\n",
      "Accuracy of     4 : 99 %\n",
      "Accuracy of     5 : 93 %\n",
      "Accuracy of     6 : 97 %\n",
      "Accuracy of     7 : 98 %\n",
      "Accuracy of     8 : 97 %\n",
      "Accuracy of     9 : 96 %\n"
     ]
    }
   ],
   "source": [
    "class_correct = list(0. for i in range(10))\n",
    "class_total = list(0. for i in range(10))\n",
    "with torch.no_grad():\n",
    "    for data in testloader:\n",
    "        images, labels = data\n",
    "        outputs = net(images)\n",
    "        _, predicted = torch.max(outputs, 1)\n",
    "        c = (predicted == labels).squeeze()\n",
    "        for i in range(4):\n",
    "            label = labels[i]\n",
    "            class_correct[label] += c[i].item()\n",
    "            class_total[label] += 1\n",
    "\n",
    "\n",
    "for i in range(10):\n",
    "    print('Accuracy of %5s : %2d %%' % (\n",
    "        classes[i], 100 * class_correct[i] / class_total[i]))"
   ]
  },
  {
   "cell_type": "markdown",
   "metadata": {},
   "source": [
    "### Questions (optional)"
   ]
  },
  {
   "cell_type": "markdown",
   "metadata": {},
   "source": [
    "1. Can you try with different batch sizes? What do you notice?\n",
    "2. You can play with knobs (# of epochs, layers, filters, padding etc.) and see the effects of each. Later, you can try to get better result.\n",
    "3. You can easily check which classes are confused with each other by using ``sklearn confusion matrix``"
   ]
  },
  {
   "cell_type": "markdown",
   "metadata": {},
   "source": [
    "It is cool, isn't it? It is just the beginning. You can go deeper at home."
   ]
  },
  {
   "cell_type": "markdown",
   "metadata": {},
   "source": [
    "## 6. Fashion MNIST (optional)\n",
    "If you like CNN, you can play with this dataset."
   ]
  },
  {
   "cell_type": "markdown",
   "metadata": {},
   "source": [
    "## 7. References\n",
    "Pytorch.org"
   ]
  },
  {
   "cell_type": "code",
   "execution_count": null,
   "metadata": {},
   "outputs": [],
   "source": []
  },
  {
   "cell_type": "code",
   "execution_count": null,
   "metadata": {},
   "outputs": [],
   "source": []
  },
  {
   "cell_type": "code",
   "execution_count": null,
   "metadata": {},
   "outputs": [],
   "source": [
    "len(trainloader)"
   ]
  },
  {
   "cell_type": "code",
   "execution_count": null,
   "metadata": {},
   "outputs": [],
   "source": [
    "i\n"
   ]
  },
  {
   "cell_type": "code",
   "execution_count": null,
   "metadata": {},
   "outputs": [],
   "source": []
  }
 ],
 "metadata": {
  "kernelspec": {
   "display_name": "Python 3",
   "language": "python",
   "name": "python3"
  },
  "language_info": {
   "codemirror_mode": {
    "name": "ipython",
    "version": 3
   },
   "file_extension": ".py",
   "mimetype": "text/x-python",
   "name": "python",
   "nbconvert_exporter": "python",
   "pygments_lexer": "ipython3",
   "version": "3.5.2"
  }
 },
 "nbformat": 4,
 "nbformat_minor": 1
}
